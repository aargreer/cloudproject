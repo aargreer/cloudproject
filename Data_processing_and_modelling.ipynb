{
  "nbformat": 4,
  "nbformat_minor": 0,
  "metadata": {
    "colab": {
      "name": "Data processing and modelling.ipynb",
      "provenance": [],
      "authorship_tag": "ABX9TyO1u/7SOVLrXHhCaTn55yBq",
      "include_colab_link": true
    },
    "kernelspec": {
      "name": "python3",
      "display_name": "Python 3"
    }
  },
  "cells": [
    {
      "cell_type": "markdown",
      "metadata": {
        "id": "view-in-github",
        "colab_type": "text"
      },
      "source": [
        "<a href=\"https://colab.research.google.com/github/aargreer/cloudproject/blob/master/Data_processing_and_modelling.ipynb\" target=\"_parent\"><img src=\"https://colab.research.google.com/assets/colab-badge.svg\" alt=\"Open In Colab\"/></a>"
      ]
    },
    {
      "cell_type": "code",
      "metadata": {
        "id": "oWFJASOnbDFz",
        "outputId": "3cdea26e-5217-4bd7-a33b-20f93c8b1090",
        "colab": {
          "base_uri": "https://localhost:8080/"
        }
      },
      "source": [
        "from google.colab import drive\n",
        "drive.mount('/content/drive')\n"
      ],
      "execution_count": null,
      "outputs": [
        {
          "output_type": "stream",
          "text": [
            "Drive already mounted at /content/drive; to attempt to forcibly remount, call drive.mount(\"/content/drive\", force_remount=True).\n"
          ],
          "name": "stdout"
        }
      ]
    },
    {
      "cell_type": "code",
      "metadata": {
        "id": "jQDAnlOjbMlc"
      },
      "source": [
        "import pandas as pd\n",
        "import numpy as np\n",
        "import matplotlib.pyplot as plt\n",
        "import seaborn as sns\n",
        "%matplotlib inline\n",
        "\n",
        "import matplotlib.pyplot as plt\n",
        "from sklearn import metrics\n",
        "from sklearn.metrics import plot_confusion_matrix\n",
        "from sklearn.metrics import plot_roc_curve\n",
        "\n",
        "from sklearn.naive_bayes import MultinomialNB  # NB\n",
        "from sklearn.neighbors import KNeighborsClassifier  # k-NN\n",
        "from sklearn.linear_model import SGDClassifier  # logistic regression\n",
        "from sklearn.tree import DecisionTreeClassifier  # DT\n",
        "from sklearn.svm import LinearSVC  # linear SVM\n",
        "from sklearn.neural_network import MLPClassifier\n",
        "\n",
        "from sklearn.pipeline import Pipeline\n",
        "from sklearn.preprocessing import StandardScaler\n",
        "from sklearn.model_selection import GridSearchCV, PredefinedSplit\n",
        "from sklearn.feature_extraction.text import CountVectorizer, TfidfVectorizer, HashingVectorizer\n",
        "from sklearn.ensemble import AdaBoostClassifier, GradientBoostingClassifier, RandomForestClassifier\n",
        "\n",
        "\n",
        "plt.style.use('fivethirtyeight')"
      ],
      "execution_count": null,
      "outputs": []
    },
    {
      "cell_type": "code",
      "metadata": {
        "id": "e8mDuV1obSv5"
      },
      "source": [
        "insurance_data=pd.read_csv('/content/drive/My Drive/Colab Notebooks/insurance.csv')"
      ],
      "execution_count": null,
      "outputs": []
    },
    {
      "cell_type": "markdown",
      "metadata": {
        "id": "HxWhyYuyeXVu"
      },
      "source": [
        "Data cleansing \n",
        "\n"
      ]
    },
    {
      "cell_type": "code",
      "metadata": {
        "id": "qMCYhU4TbVi4",
        "outputId": "f2899457-183b-4cec-f54a-deb9a87375bb",
        "colab": {
          "base_uri": "https://localhost:8080/"
        }
      },
      "source": [
        "insurance_data.info()"
      ],
      "execution_count": null,
      "outputs": [
        {
          "output_type": "stream",
          "text": [
            "<class 'pandas.core.frame.DataFrame'>\n",
            "RangeIndex: 1338 entries, 0 to 1337\n",
            "Data columns (total 7 columns):\n",
            " #   Column    Non-Null Count  Dtype  \n",
            "---  ------    --------------  -----  \n",
            " 0   age       1338 non-null   int64  \n",
            " 1   sex       1338 non-null   object \n",
            " 2   bmi       1338 non-null   float64\n",
            " 3   children  1338 non-null   int64  \n",
            " 4   smoker    1338 non-null   object \n",
            " 5   region    1338 non-null   object \n",
            " 6   expenses  1338 non-null   float64\n",
            "dtypes: float64(2), int64(2), object(3)\n",
            "memory usage: 73.3+ KB\n"
          ],
          "name": "stdout"
        }
      ]
    },
    {
      "cell_type": "code",
      "metadata": {
        "id": "ROnWdAJobWkW",
        "outputId": "e56f54ad-fdd1-4f0e-c0df-47474481e783",
        "colab": {
          "base_uri": "https://localhost:8080/"
        }
      },
      "source": [
        "insurance_data.isnull().any()"
      ],
      "execution_count": null,
      "outputs": [
        {
          "output_type": "execute_result",
          "data": {
            "text/plain": [
              "age         False\n",
              "sex         False\n",
              "bmi         False\n",
              "children    False\n",
              "smoker      False\n",
              "region      False\n",
              "expenses    False\n",
              "dtype: bool"
            ]
          },
          "metadata": {
            "tags": []
          },
          "execution_count": 36
        }
      ]
    },
    {
      "cell_type": "code",
      "metadata": {
        "id": "NsEQ-_m4bZe8",
        "outputId": "c0b45534-ffec-4a24-d1c8-4bba241ed675",
        "colab": {
          "base_uri": "https://localhost:8080/"
        }
      },
      "source": [
        "insurance_data.sex.unique()"
      ],
      "execution_count": null,
      "outputs": [
        {
          "output_type": "execute_result",
          "data": {
            "text/plain": [
              "array(['female', 'male'], dtype=object)"
            ]
          },
          "metadata": {
            "tags": []
          },
          "execution_count": 37
        }
      ]
    },
    {
      "cell_type": "code",
      "metadata": {
        "id": "kH5zBMilbh_t",
        "outputId": "fa8cb4e6-7c4c-4ca4-9da0-d6e22767a1a1",
        "colab": {
          "base_uri": "https://localhost:8080/",
          "height": 1000
        }
      },
      "source": [
        "insurance_data['bmi_int'] = insurance_data['bmi'].apply(lambda x: int(x))\n",
        "variables = ['sex','smoker','region','age','bmi_int','children']\n",
        "\n",
        "# data distribution analysys\n",
        "print('Data distribution analysys')\n",
        "for v in variables:\n",
        "    insurance_data = insurance_data.sort_values(by=[v])\n",
        "    insurance_data[v].value_counts().plot(kind = 'bar')\n",
        "    plt.title(v)\n",
        "    plt.show()"
      ],
      "execution_count": null,
      "outputs": [
        {
          "output_type": "stream",
          "text": [
            "Data distribution analysys\n"
          ],
          "name": "stdout"
        },
        {
          "output_type": "display_data",
          "data": {
            "image/png": "[encoded data removed]",
            "text/plain": [
              "<Figure size 432x288 with 1 Axes>"
            ]
          },
          "metadata": {
            "tags": []
          }
        },
        {
          "output_type": "display_data",
          "data": {
            "image/png": "[encoded data removed]",
            "text/plain": [
              "<Figure size 432x288 with 1 Axes>"
            ]
          },
          "metadata": {
            "tags": []
          }
        },
        {
          "output_type": "display_data",
          "data": {
            "image/png": "[encoded data removed]",
            "text/plain": [
              "<Figure size 432x288 with 1 Axes>"
            ]
          },
          "metadata": {
            "tags": []
          }
        },
        {
          "output_type": "display_data",
          "data": {
            "image/png": "[encoded data removed]",
            "text/plain": [
              "<Figure size 432x288 with 1 Axes>"
            ]
          },
          "metadata": {
            "tags": []
          }
        },
        {
          "output_type": "display_data",
          "data": {
            "image/png": "[encoded data removed]",
            "text/plain": [
              "<Figure size 432x288 with 1 Axes>"
            ]
          },
          "metadata": {
            "tags": []
          }
        },
        {
          "output_type": "display_data",
          "data": {
            "image/png": "[encoded data removed]",
            "text/plain": [
              "<Figure size 432x288 with 1 Axes>"
            ]
          },
          "metadata": {
            "tags": []
          }
        }
      ]
    },
    {
      "cell_type": "code",
      "metadata": {
        "id": "P7VyjvjZbi8j",
        "outputId": "96d085d5-b83d-4e0c-9e4a-a024a7a649a4",
        "colab": {
          "base_uri": "https://localhost:8080/",
          "height": 201
        }
      },
      "source": [
        "correlation = insurance_data.corr()\n",
        "correlation"
      ],
      "execution_count": null,
      "outputs": [
        {
          "output_type": "execute_result",
          "data": {
            "text/html": [
              "<div>\n",
              "<style scoped>\n",
              "    .dataframe tbody tr th:only-of-type {\n",
              "        vertical-align: middle;\n",
              "    }\n",
              "\n",
              "    .dataframe tbody tr th {\n",
              "        vertical-align: top;\n",
              "    }\n",
              "\n",
              "    .dataframe thead th {\n",
              "        text-align: right;\n",
              "    }\n",
              "</style>\n",
              "<table border=\"1\" class=\"dataframe\">\n",
              "  <thead>\n",
              "    <tr style=\"text-align: right;\">\n",
              "      <th></th>\n",
              "      <th>age</th>\n",
              "      <th>bmi</th>\n",
              "      <th>children</th>\n",
              "      <th>expenses</th>\n",
              "      <th>bmi_int</th>\n",
              "    </tr>\n",
              "  </thead>\n",
              "  <tbody>\n",
              "    <tr>\n",
              "      <th>age</th>\n",
              "      <td>1.000000</td>\n",
              "      <td>0.109341</td>\n",
              "      <td>0.042469</td>\n",
              "      <td>0.299008</td>\n",
              "      <td>0.109659</td>\n",
              "    </tr>\n",
              "    <tr>\n",
              "      <th>bmi</th>\n",
              "      <td>0.109341</td>\n",
              "      <td>1.000000</td>\n",
              "      <td>0.012645</td>\n",
              "      <td>0.198576</td>\n",
              "      <td>0.998884</td>\n",
              "    </tr>\n",
              "    <tr>\n",
              "      <th>children</th>\n",
              "      <td>0.042469</td>\n",
              "      <td>0.012645</td>\n",
              "      <td>1.000000</td>\n",
              "      <td>0.067998</td>\n",
              "      <td>0.011786</td>\n",
              "    </tr>\n",
              "    <tr>\n",
              "      <th>expenses</th>\n",
              "      <td>0.299008</td>\n",
              "      <td>0.198576</td>\n",
              "      <td>0.067998</td>\n",
              "      <td>1.000000</td>\n",
              "      <td>0.197669</td>\n",
              "    </tr>\n",
              "    <tr>\n",
              "      <th>bmi_int</th>\n",
              "      <td>0.109659</td>\n",
              "      <td>0.998884</td>\n",
              "      <td>0.011786</td>\n",
              "      <td>0.197669</td>\n",
              "      <td>1.000000</td>\n",
              "    </tr>\n",
              "  </tbody>\n",
              "</table>\n",
              "</div>"
            ],
            "text/plain": [
              "               age       bmi  children  expenses   bmi_int\n",
              "age       1.000000  0.109341  0.042469  0.299008  0.109659\n",
              "bmi       0.109341  1.000000  0.012645  0.198576  0.998884\n",
              "children  0.042469  0.012645  1.000000  0.067998  0.011786\n",
              "expenses  0.299008  0.198576  0.067998  1.000000  0.197669\n",
              "bmi_int   0.109659  0.998884  0.011786  0.197669  1.000000"
            ]
          },
          "metadata": {
            "tags": []
          },
          "execution_count": 39
        }
      ]
    },
    {
      "cell_type": "code",
      "metadata": {
        "id": "2E1v8TwOcAat",
        "outputId": "de314ba4-cec2-4306-f196-20f4f72263d3",
        "colab": {
          "base_uri": "https://localhost:8080/",
          "height": 420
        }
      },
      "source": [
        "plt.figure(figsize=(8,6))\n",
        "sns.heatmap(correlation, annot = True)"
      ],
      "execution_count": null,
      "outputs": [
        {
          "output_type": "execute_result",
          "data": {
            "text/plain": [
              "<matplotlib.axes._subplots.AxesSubplot at 0x7f92f503d9e8>"
            ]
          },
          "metadata": {
            "tags": []
          },
          "execution_count": 40
        },
        {
          "output_type": "display_data",
          "data": {
            "image/png": "[encoded data removed]",
            "text/plain": [
              "<Figure size 576x432 with 2 Axes>"
            ]
          },
          "metadata": {
            "tags": []
          }
        }
      ]
    },
    {
      "cell_type": "markdown",
      "metadata": {
        "id": "WlOHp4r4ewE3"
      },
      "source": [
        "makes a coy of original data to test two models without having errors\n"
      ]
    },
    {
      "cell_type": "code",
      "metadata": {
        "id": "kuCKOQW8cEVz"
      },
      "source": [
        "ols_data=insurance_data"
      ],
      "execution_count": null,
      "outputs": []
    },
    {
      "cell_type": "code",
      "metadata": {
        "id": "qktnfblZcHla"
      },
      "source": [
        "import copy\n",
        "data= copy.copy(ols_data)"
      ],
      "execution_count": null,
      "outputs": []
    },
    {
      "cell_type": "code",
      "metadata": {
        "id": "_JlFoa4zcKJX"
      },
      "source": [
        "data.sex.replace({'male':1,'female':0},inplace=True)\n",
        "data.smoker.replace({'yes':1,'no':0},inplace=True)"
      ],
      "execution_count": null,
      "outputs": []
    },
    {
      "cell_type": "code",
      "metadata": {
        "id": "fB-z1D6_cLaw",
        "outputId": "f64cb524-f314-442f-eed5-6ba089d2ad5f",
        "colab": {
          "base_uri": "https://localhost:8080/",
          "height": 354
        }
      },
      "source": [
        "data.head(10)"
      ],
      "execution_count": null,
      "outputs": [
        {
          "output_type": "execute_result",
          "data": {
            "text/html": [
              "<div>\n",
              "<style scoped>\n",
              "    .dataframe tbody tr th:only-of-type {\n",
              "        vertical-align: middle;\n",
              "    }\n",
              "\n",
              "    .dataframe tbody tr th {\n",
              "        vertical-align: top;\n",
              "    }\n",
              "\n",
              "    .dataframe thead th {\n",
              "        text-align: right;\n",
              "    }\n",
              "</style>\n",
              "<table border=\"1\" class=\"dataframe\">\n",
              "  <thead>\n",
              "    <tr style=\"text-align: right;\">\n",
              "      <th></th>\n",
              "      <th>age</th>\n",
              "      <th>sex</th>\n",
              "      <th>bmi</th>\n",
              "      <th>children</th>\n",
              "      <th>smoker</th>\n",
              "      <th>region</th>\n",
              "      <th>expenses</th>\n",
              "      <th>bmi_int</th>\n",
              "    </tr>\n",
              "  </thead>\n",
              "  <tbody>\n",
              "    <tr>\n",
              "      <th>423</th>\n",
              "      <td>25</td>\n",
              "      <td>1</td>\n",
              "      <td>30.6</td>\n",
              "      <td>0</td>\n",
              "      <td>0</td>\n",
              "      <td>4</td>\n",
              "      <td>2727.40</td>\n",
              "      <td>30</td>\n",
              "    </tr>\n",
              "    <tr>\n",
              "      <th>581</th>\n",
              "      <td>19</td>\n",
              "      <td>1</td>\n",
              "      <td>30.6</td>\n",
              "      <td>0</td>\n",
              "      <td>0</td>\n",
              "      <td>3</td>\n",
              "      <td>1639.56</td>\n",
              "      <td>30</td>\n",
              "    </tr>\n",
              "    <tr>\n",
              "      <th>550</th>\n",
              "      <td>63</td>\n",
              "      <td>1</td>\n",
              "      <td>30.8</td>\n",
              "      <td>0</td>\n",
              "      <td>0</td>\n",
              "      <td>2</td>\n",
              "      <td>13390.56</td>\n",
              "      <td>30</td>\n",
              "    </tr>\n",
              "    <tr>\n",
              "      <th>887</th>\n",
              "      <td>36</td>\n",
              "      <td>0</td>\n",
              "      <td>30.0</td>\n",
              "      <td>0</td>\n",
              "      <td>0</td>\n",
              "      <td>3</td>\n",
              "      <td>5272.18</td>\n",
              "      <td>30</td>\n",
              "    </tr>\n",
              "    <tr>\n",
              "      <th>1138</th>\n",
              "      <td>33</td>\n",
              "      <td>1</td>\n",
              "      <td>30.3</td>\n",
              "      <td>0</td>\n",
              "      <td>0</td>\n",
              "      <td>1</td>\n",
              "      <td>3704.35</td>\n",
              "      <td>30</td>\n",
              "    </tr>\n",
              "    <tr>\n",
              "      <th>503</th>\n",
              "      <td>19</td>\n",
              "      <td>1</td>\n",
              "      <td>30.3</td>\n",
              "      <td>0</td>\n",
              "      <td>1</td>\n",
              "      <td>1</td>\n",
              "      <td>32548.34</td>\n",
              "      <td>30</td>\n",
              "    </tr>\n",
              "    <tr>\n",
              "      <th>1042</th>\n",
              "      <td>20</td>\n",
              "      <td>1</td>\n",
              "      <td>30.7</td>\n",
              "      <td>0</td>\n",
              "      <td>1</td>\n",
              "      <td>4</td>\n",
              "      <td>33475.82</td>\n",
              "      <td>30</td>\n",
              "    </tr>\n",
              "    <tr>\n",
              "      <th>1158</th>\n",
              "      <td>20</td>\n",
              "      <td>0</td>\n",
              "      <td>30.6</td>\n",
              "      <td>0</td>\n",
              "      <td>0</td>\n",
              "      <td>4</td>\n",
              "      <td>2459.72</td>\n",
              "      <td>30</td>\n",
              "    </tr>\n",
              "    <tr>\n",
              "      <th>322</th>\n",
              "      <td>34</td>\n",
              "      <td>1</td>\n",
              "      <td>30.8</td>\n",
              "      <td>0</td>\n",
              "      <td>1</td>\n",
              "      <td>2</td>\n",
              "      <td>35491.64</td>\n",
              "      <td>30</td>\n",
              "    </tr>\n",
              "    <tr>\n",
              "      <th>381</th>\n",
              "      <td>55</td>\n",
              "      <td>1</td>\n",
              "      <td>30.7</td>\n",
              "      <td>0</td>\n",
              "      <td>1</td>\n",
              "      <td>4</td>\n",
              "      <td>42303.69</td>\n",
              "      <td>30</td>\n",
              "    </tr>\n",
              "  </tbody>\n",
              "</table>\n",
              "</div>"
            ],
            "text/plain": [
              "      age  sex   bmi  children  smoker  region  expenses  bmi_int\n",
              "423    25    1  30.6         0       0       4   2727.40       30\n",
              "581    19    1  30.6         0       0       3   1639.56       30\n",
              "550    63    1  30.8         0       0       2  13390.56       30\n",
              "887    36    0  30.0         0       0       3   5272.18       30\n",
              "1138   33    1  30.3         0       0       1   3704.35       30\n",
              "503    19    1  30.3         0       1       1  32548.34       30\n",
              "1042   20    1  30.7         0       1       4  33475.82       30\n",
              "1158   20    0  30.6         0       0       4   2459.72       30\n",
              "322    34    1  30.8         0       1       2  35491.64       30\n",
              "381    55    1  30.7         0       1       4  42303.69       30"
            ]
          },
          "metadata": {
            "tags": []
          },
          "execution_count": 46
        }
      ]
    },
    {
      "cell_type": "code",
      "metadata": {
        "id": "DVlCpCvJcgoy"
      },
      "source": [
        "data[\"region\"] = insurance_data.region.replace({'southeast':1,'southwest':2,'northwest':3,'northeast':4})"
      ],
      "execution_count": null,
      "outputs": []
    },
    {
      "cell_type": "markdown",
      "metadata": {
        "id": "OMh8PnwCfNGe"
      },
      "source": [
        "one least square regression to show estimate of what patients will pay based on age , sex, region"
      ]
    },
    {
      "cell_type": "code",
      "metadata": {
        "id": "DYWll_eccUIh",
        "outputId": "2b0b5eba-5b2f-451e-bd87-e4623dddea98",
        "colab": {
          "base_uri": "https://localhost:8080/"
        }
      },
      "source": [
        "import statsmodels.api as sm\n",
        "from sklearn.model_selection import train_test_split\n",
        "X1=data.drop(columns='expenses')\n",
        "y1=data[['expenses']]\n",
        "train_X1, test_X1, train_y1, test_y1 = train_test_split(X1,y1,test_size=0.4)\n",
        "Fake = sm.add_constant(X1)\n",
        "model = sm.OLS(y1,X1)\n",
        "results = model.fit()\n",
        "print(results.summary())"
      ],
      "execution_count": null,
      "outputs": [
        {
          "output_type": "stream",
          "text": [
            "                                 OLS Regression Results                                \n",
            "=======================================================================================\n",
            "Dep. Variable:               expenses   R-squared (uncentered):                   0.875\n",
            "Model:                            OLS   Adj. R-squared (uncentered):              0.874\n",
            "Method:                 Least Squares   F-statistic:                              1332.\n",
            "Date:                Thu, 12 Nov 2020   Prob (F-statistic):                        0.00\n",
            "Time:                        03:19:52   Log-Likelihood:                         -13614.\n",
            "No. Observations:                1338   AIC:                                  2.724e+04\n",
            "Df Residuals:                    1331   BIC:                                  2.728e+04\n",
            "Df Model:                           7                                                  \n",
            "Covariance Type:            nonrobust                                                  \n",
            "==============================================================================\n",
            "                 coef    std err          t      P>|t|      [0.025      0.975]\n",
            "------------------------------------------------------------------------------\n",
            "age          213.6161     11.880     17.981      0.000     190.310     236.922\n",
            "sex         -572.2279    347.309     -1.648      0.100   -1253.561     109.105\n",
            "bmi        -1486.6629    581.332     -2.557      0.011   -2627.090    -346.236\n",
            "children     312.3286    143.850      2.171      0.030      30.130     594.527\n",
            "smoker      2.345e+04    431.424     54.366      0.000    2.26e+04    2.43e+04\n",
            "region      -537.9231    137.690     -3.907      0.000    -808.037    -267.810\n",
            "bmi_int     1563.6662    586.380      2.667      0.008     413.336    2713.996\n",
            "==============================================================================\n",
            "Omnibus:                      279.930   Durbin-Watson:                   1.888\n",
            "Prob(Omnibus):                  0.000   Jarque-Bera (JB):              644.117\n",
            "Skew:                           1.148   Prob(JB):                    1.35e-140\n",
            "Kurtosis:                       5.507   Cond. No.                         283.\n",
            "==============================================================================\n",
            "\n",
            "Warnings:\n",
            "[1] Standard Errors assume that the covariance matrix of the errors is correctly specified.\n"
          ],
          "name": "stdout"
        }
      ]
    },
    {
      "cell_type": "code",
      "metadata": {
        "id": "yWBWVrKJcqiX",
        "outputId": "633b6c80-a1cb-48b8-9eac-5ab71a5c3142",
        "colab": {
          "base_uri": "https://localhost:8080/",
          "height": 354
        }
      },
      "source": [
        "insurance_data.head(10)"
      ],
      "execution_count": null,
      "outputs": [
        {
          "output_type": "execute_result",
          "data": {
            "text/html": [
              "<div>\n",
              "<style scoped>\n",
              "    .dataframe tbody tr th:only-of-type {\n",
              "        vertical-align: middle;\n",
              "    }\n",
              "\n",
              "    .dataframe tbody tr th {\n",
              "        vertical-align: top;\n",
              "    }\n",
              "\n",
              "    .dataframe thead th {\n",
              "        text-align: right;\n",
              "    }\n",
              "</style>\n",
              "<table border=\"1\" class=\"dataframe\">\n",
              "  <thead>\n",
              "    <tr style=\"text-align: right;\">\n",
              "      <th></th>\n",
              "      <th>age</th>\n",
              "      <th>sex</th>\n",
              "      <th>bmi</th>\n",
              "      <th>children</th>\n",
              "      <th>smoker</th>\n",
              "      <th>region</th>\n",
              "      <th>expenses</th>\n",
              "      <th>bmi_int</th>\n",
              "    </tr>\n",
              "  </thead>\n",
              "  <tbody>\n",
              "    <tr>\n",
              "      <th>423</th>\n",
              "      <td>25</td>\n",
              "      <td>male</td>\n",
              "      <td>30.6</td>\n",
              "      <td>0</td>\n",
              "      <td>no</td>\n",
              "      <td>northeast</td>\n",
              "      <td>2727.40</td>\n",
              "      <td>30</td>\n",
              "    </tr>\n",
              "    <tr>\n",
              "      <th>581</th>\n",
              "      <td>19</td>\n",
              "      <td>male</td>\n",
              "      <td>30.6</td>\n",
              "      <td>0</td>\n",
              "      <td>no</td>\n",
              "      <td>northwest</td>\n",
              "      <td>1639.56</td>\n",
              "      <td>30</td>\n",
              "    </tr>\n",
              "    <tr>\n",
              "      <th>550</th>\n",
              "      <td>63</td>\n",
              "      <td>male</td>\n",
              "      <td>30.8</td>\n",
              "      <td>0</td>\n",
              "      <td>no</td>\n",
              "      <td>southwest</td>\n",
              "      <td>13390.56</td>\n",
              "      <td>30</td>\n",
              "    </tr>\n",
              "    <tr>\n",
              "      <th>887</th>\n",
              "      <td>36</td>\n",
              "      <td>female</td>\n",
              "      <td>30.0</td>\n",
              "      <td>0</td>\n",
              "      <td>no</td>\n",
              "      <td>northwest</td>\n",
              "      <td>5272.18</td>\n",
              "      <td>30</td>\n",
              "    </tr>\n",
              "    <tr>\n",
              "      <th>1138</th>\n",
              "      <td>33</td>\n",
              "      <td>male</td>\n",
              "      <td>30.3</td>\n",
              "      <td>0</td>\n",
              "      <td>no</td>\n",
              "      <td>southeast</td>\n",
              "      <td>3704.35</td>\n",
              "      <td>30</td>\n",
              "    </tr>\n",
              "    <tr>\n",
              "      <th>503</th>\n",
              "      <td>19</td>\n",
              "      <td>male</td>\n",
              "      <td>30.3</td>\n",
              "      <td>0</td>\n",
              "      <td>yes</td>\n",
              "      <td>southeast</td>\n",
              "      <td>32548.34</td>\n",
              "      <td>30</td>\n",
              "    </tr>\n",
              "    <tr>\n",
              "      <th>1042</th>\n",
              "      <td>20</td>\n",
              "      <td>male</td>\n",
              "      <td>30.7</td>\n",
              "      <td>0</td>\n",
              "      <td>yes</td>\n",
              "      <td>northeast</td>\n",
              "      <td>33475.82</td>\n",
              "      <td>30</td>\n",
              "    </tr>\n",
              "    <tr>\n",
              "      <th>1158</th>\n",
              "      <td>20</td>\n",
              "      <td>female</td>\n",
              "      <td>30.6</td>\n",
              "      <td>0</td>\n",
              "      <td>no</td>\n",
              "      <td>northeast</td>\n",
              "      <td>2459.72</td>\n",
              "      <td>30</td>\n",
              "    </tr>\n",
              "    <tr>\n",
              "      <th>322</th>\n",
              "      <td>34</td>\n",
              "      <td>male</td>\n",
              "      <td>30.8</td>\n",
              "      <td>0</td>\n",
              "      <td>yes</td>\n",
              "      <td>southwest</td>\n",
              "      <td>35491.64</td>\n",
              "      <td>30</td>\n",
              "    </tr>\n",
              "    <tr>\n",
              "      <th>381</th>\n",
              "      <td>55</td>\n",
              "      <td>male</td>\n",
              "      <td>30.7</td>\n",
              "      <td>0</td>\n",
              "      <td>yes</td>\n",
              "      <td>northeast</td>\n",
              "      <td>42303.69</td>\n",
              "      <td>30</td>\n",
              "    </tr>\n",
              "  </tbody>\n",
              "</table>\n",
              "</div>"
            ],
            "text/plain": [
              "      age     sex   bmi  children smoker     region  expenses  bmi_int\n",
              "423    25    male  30.6         0     no  northeast   2727.40       30\n",
              "581    19    male  30.6         0     no  northwest   1639.56       30\n",
              "550    63    male  30.8         0     no  southwest  13390.56       30\n",
              "887    36  female  30.0         0     no  northwest   5272.18       30\n",
              "1138   33    male  30.3         0     no  southeast   3704.35       30\n",
              "503    19    male  30.3         0    yes  southeast  32548.34       30\n",
              "1042   20    male  30.7         0    yes  northeast  33475.82       30\n",
              "1158   20  female  30.6         0     no  northeast   2459.72       30\n",
              "322    34    male  30.8         0    yes  southwest  35491.64       30\n",
              "381    55    male  30.7         0    yes  northeast  42303.69       30"
            ]
          },
          "metadata": {
            "tags": []
          },
          "execution_count": 48
        }
      ]
    },
    {
      "cell_type": "markdown",
      "metadata": {
        "id": "rvGQPe82fiGc"
      },
      "source": [
        "using extra tree regression for prediction based on the user input"
      ]
    },
    {
      "cell_type": "code",
      "metadata": {
        "id": "cC3bCMrpc2Oh",
        "outputId": "539e6783-11a3-4ae6-c225-5403a4199829",
        "colab": {
          "base_uri": "https://localhost:8080/"
        }
      },
      "source": [
        "from sklearn.ensemble import ExtraTreesRegressor\n",
        "from sklearn.preprocessing import LabelEncoder, StandardScaler\n",
        "from sklearn.model_selection import train_test_split\n",
        "import sklearn.metrics\n",
        "import warnings\n",
        "\n",
        "print('Model training and evaluating\\n\\n')\n",
        "#transform categorical data\n",
        "le_sex = LabelEncoder()\n",
        "le_smoker = LabelEncoder()\n",
        "le_region = LabelEncoder()\n",
        "\n",
        "insurance_data['sex'] = le_sex.fit_transform(insurance_data['sex'])\n",
        "insurance_data['smoker'] = le_smoker.fit_transform(insurance_data['smoker'])\n",
        "insurance_data['region'] = le_region.fit_transform(insurance_data['region'])\n",
        "\n",
        "variables = ['sex','smoker','region','age','bmi','children']\n",
        "\n",
        "X = insurance_data[variables]\n",
        "sc = StandardScaler()\n",
        "X = sc.fit_transform(X) \n",
        "Y = insurance_data['expenses']\n",
        "X_train, X_test, y_train, y_test = train_test_split(X, Y, test_size=0.3)\n",
        "\n",
        "#train model\n",
        "regressor = ExtraTreesRegressor(n_estimators = 200)\n",
        "regressor.fit(X_train,y_train)\n",
        "\n",
        "#prediction and evaluation\n",
        "y_train_pred = regressor.predict(X_train)\n",
        "y_test_pred = regressor.predict(X_test)\n",
        "\n",
        "print('ExtraTreesRegressor evaluating result:')\n",
        "print(\"Train MAE: \", sklearn.metrics.mean_absolute_error(y_train, y_train_pred))\n",
        "print(\"Train RMSE: \", np.sqrt(sklearn.metrics.mean_squared_error(y_train, y_train_pred)))\n",
        "print(\"Test MAE: \", sklearn.metrics.mean_absolute_error(y_test, y_test_pred))\n",
        "print(\"Test RMSE: \", np.sqrt(sklearn.metrics.mean_squared_error(y_test, y_test_pred)))"
      ],
      "execution_count": null,
      "outputs": [
        {
          "output_type": "stream",
          "text": [
            "Model training and evaluating\n",
            "\n",
            "\n",
            "ExtraTreesRegressor evaluating result:\n",
            "Train MAE:  17.889140186948655\n",
            "Train RMSE:  413.7770113183114\n",
            "Test MAE:  2794.6329975746285\n",
            "Test RMSE:  4920.4057787626125\n"
          ],
          "name": "stdout"
        }
      ]
    },
    {
      "cell_type": "code",
      "metadata": {
        "id": "f--9505hm8XL"
      },
      "source": [
        "filename = 'Expense_Y'\n",
        "outfile = open(filename,'wb')\n",
        "pickle.dump(Y,outfile)\n",
        "outfile.close()"
      ],
      "execution_count": null,
      "outputs": []
    },
    {
      "cell_type": "code",
      "metadata": {
        "id": "a185ZIR5jSei",
        "outputId": "b279dbc8-bfb5-4517-c6d2-33b0a5cf1c33",
        "colab": {
          "base_uri": "https://localhost:8080/"
        }
      },
      "source": [
        "y_test.head(5)"
      ],
      "execution_count": null,
      "outputs": [
        {
          "output_type": "execute_result",
          "data": {
            "text/plain": [
              "666      8703.46\n",
              "504      5974.38\n",
              "461     22144.03\n",
              "1187    13844.80\n",
              "218      3392.98\n",
              "Name: expenses, dtype: float64"
            ]
          },
          "metadata": {
            "tags": []
          },
          "execution_count": 57
        }
      ]
    },
    {
      "cell_type": "code",
      "metadata": {
        "id": "xlLKem7vjY33",
        "outputId": "20357d89-f22d-4ba8-f7fe-815df3ead05e",
        "colab": {
          "base_uri": "https://localhost:8080/"
        }
      },
      "source": [
        "y_train.head(5)"
      ],
      "execution_count": null,
      "outputs": [
        {
          "output_type": "execute_result",
          "data": {
            "text/plain": [
              "495     1967.02\n",
              "791     1252.41\n",
              "36     15612.19\n",
              "937     8965.80\n",
              "96     12105.32\n",
              "Name: expenses, dtype: float64"
            ]
          },
          "metadata": {
            "tags": []
          },
          "execution_count": 61
        }
      ]
    },
    {
      "cell_type": "code",
      "metadata": {
        "id": "lTW25Vq7dLNQ",
        "outputId": "6fedecdc-0cec-46e7-b67b-653eaf81714f",
        "colab": {
          "base_uri": "https://localhost:8080/"
        }
      },
      "source": [
        "print('Feature importance ranking\\n\\n')\n",
        "importances = regressor.feature_importances_\n",
        "std = np.std([tree.feature_importances_ for tree in regressor.estimators_],axis=0)\n",
        "indices = np.argsort(importances)[::-1]\n",
        "\n",
        "importance_list = []\n",
        "for f in range(X.shape[1]):\n",
        "    variable = variables[indices[f]]\n",
        "    importance_list.append(variable)\n",
        "    print(\"%d.%s(%f)\" % (f + 1, variable, importances[indices[f]]))\n"
      ],
      "execution_count": null,
      "outputs": [
        {
          "output_type": "stream",
          "text": [
            "Feature importance ranking\n",
            "\n",
            "\n",
            "1.smoker(0.604629)\n",
            "2.bmi(0.197603)\n",
            "3.age(0.135657)\n",
            "4.children(0.027218)\n",
            "5.region(0.023868)\n",
            "6.sex(0.011025)\n"
          ],
          "name": "stdout"
        }
      ]
    },
    {
      "cell_type": "code",
      "metadata": {
        "id": "i7IIhwwSdnLW",
        "outputId": "a865e03b-eced-4e59-9b5a-fc0b7ec93aae",
        "colab": {
          "base_uri": "https://localhost:8080/"
        }
      },
      "source": [
        "print('Predicting on new data\\n\\n')\n",
        "\n",
        "billy = ['male','yes','southeast',25,30.5,2]\n",
        "print('Billy - ',str(billy))\n",
        "\n",
        "billy[0] = le_sex.transform([billy[0]])[0] \n",
        "billy[1] = le_smoker.transform([billy[1]])[0] \n",
        "billy[2] = le_region.transform([billy[2]])[0] \n",
        "\n",
        "X = sc.transform([billy])\n",
        "\n",
        "cost_for_billy = regressor.predict(X)[0]\n",
        "print('Cost for Billy = ',cost_for_billy,'\\n\\n')\n",
        "\n",
        "\n",
        "dennis = ['female','no','southeast',45,19,0]\n",
        "print('Dennis - ',str(dennis))\n",
        "\n",
        "dennis[0] = le_sex.transform([dennis[0]])[0] \n",
        "dennis[1] = le_smoker.transform([dennis[1]])[0] \n",
        "dennis[2] = le_region.transform([dennis[2]])[0] \n",
        "\n",
        "X = sc.transform([dennis])\n",
        "\n",
        "cost_for_dennis = regressor.predict(X)[0]\n",
        "\n",
        "print('Cost for Dennis = ',cost_for_dennis)"
      ],
      "execution_count": null,
      "outputs": [
        {
          "output_type": "stream",
          "text": [
            "Predicting on new data\n",
            "\n",
            "\n",
            "Billy -  ['male', 'yes', 'southeast', 25, 30.5, 2]\n",
            "Cost for Billy =  32879.767449999956 \n",
            "\n",
            "\n",
            "Dennis -  ['female', 'no', 'southeast', 45, 19, 0]\n",
            "Cost for Dennis =  8616.840800000004\n"
          ],
          "name": "stdout"
        }
      ]
    },
    {
      "cell_type": "code",
      "metadata": {
        "id": "-5ba1lfIj9gm"
      },
      "source": [
        "y_train.to_csv(\"train.csv\",index=False)\n",
        "y_test.to_csv(\"test.csv\",index=False)"
      ],
      "execution_count": null,
      "outputs": []
    }
  ]
}